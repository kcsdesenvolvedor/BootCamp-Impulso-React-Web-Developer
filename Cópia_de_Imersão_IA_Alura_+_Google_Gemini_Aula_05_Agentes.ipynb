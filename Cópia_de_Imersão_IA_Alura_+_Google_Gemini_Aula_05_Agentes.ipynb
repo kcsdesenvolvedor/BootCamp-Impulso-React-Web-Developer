{
  "nbformat": 4,
  "nbformat_minor": 0,
  "metadata": {
    "colab": {
      "provenance": [],
      "include_colab_link": true
    },
    "kernelspec": {
      "name": "python3",
      "display_name": "Python 3"
    },
    "language_info": {
      "name": "python"
    }
  },
  "cells": [
    {
      "cell_type": "markdown",
      "metadata": {
        "id": "view-in-github",
        "colab_type": "text"
      },
      "source": [
        "<a href=\"https://colab.research.google.com/github/kcsdesenvolvedor/BootCamp-Impulso-React-Web-Developer/blob/main/C%C3%B3pia_de_Imers%C3%A3o_IA_Alura_%2B_Google_Gemini_Aula_05_Agentes.ipynb\" target=\"_parent\"><img src=\"https://colab.research.google.com/assets/colab-badge.svg\" alt=\"Open In Colab\"/></a>"
      ]
    },
    {
      "cell_type": "code",
      "source": [
        "%pip -q install google-genai"
      ],
      "metadata": {
        "id": "UCCbECexLk_h"
      },
      "execution_count": 3,
      "outputs": []
    },
    {
      "cell_type": "code",
      "source": [
        "# Configura a API Key do Google Gemini\n",
        "\n",
        "import os\n",
        "from google.colab import userdata\n",
        "\n",
        "os.environ[\"GOOGLE_API_KEY\"] = userdata.get('GOOGLE_API_KEY')"
      ],
      "metadata": {
        "id": "NfCqHo1tLk8P"
      },
      "execution_count": 4,
      "outputs": []
    },
    {
      "cell_type": "code",
      "source": [
        "# Configura o cliente da SDK do Gemini\n",
        "\n",
        "from google import genai\n",
        "\n",
        "client = genai.Client()\n",
        "\n",
        "MODEL_ID = \"gemini-2.0-flash\""
      ],
      "metadata": {
        "id": "bV4w0H5TLk5g"
      },
      "execution_count": 5,
      "outputs": []
    },
    {
      "cell_type": "code",
      "source": [
        "# Pergunta ao Gemini uma informação mais recente que seu conhecimento\n",
        "\n",
        "from IPython.display import HTML, Markdown\n",
        "\n",
        "# Perguntar pro modelo quando é a próxima imersão de IA ###############################################\n",
        "\n",
        "resposta = client.models.generate_content(\n",
        "    model = MODEL_ID,\n",
        "    contents = \"Quando é a próxima Imersão IA com Google Gemini da Alura?\"\n",
        ")\n",
        "\n",
        "# Exibe a resposta na tela\n",
        "display(Markdown(f\"Resposta:\\n {resposta.text}\"))"
      ],
      "metadata": {
        "id": "HwVP7Xi34Zuw",
        "colab": {
          "base_uri": "https://localhost:8080/",
          "height": 151
        },
        "outputId": "d9b872ca-45d3-48a4-b711-6cc935b129b2"
      },
      "execution_count": 6,
      "outputs": [
        {
          "output_type": "display_data",
          "data": {
            "text/plain": [
              "<IPython.core.display.Markdown object>"
            ],
            "text/markdown": "Resposta:\n A Alura ainda não anunciou uma nova edição da Imersão IA com Google Gemini. A última edição ocorreu em fevereiro de 2024.\n\nA melhor forma de ficar sabendo sobre novas edições é:\n\n*   **Seguir a Alura nas redes sociais:** Eles geralmente anunciam novos cursos e imersões por lá.\n*   **Assinar a newsletter da Alura:** Assim você recebe as novidades diretamente no seu e-mail.\n*   **Ficar de olho na página de cursos da Alura:** Eles costumam atualizar a página com os próximos lançamentos.\n\nVocê pode encontrar os links para as redes sociais e newsletter no site da Alura: [https://www.alura.com.br/](https://www.alura.com.br/)\n"
          },
          "metadata": {}
        }
      ]
    },
    {
      "cell_type": "code",
      "source": [
        "# Pergunta ao Gemini uma informação utilizando a busca do Google como contexto\n",
        "\n",
        "response = client.models.generate_content(\n",
        "    model=MODEL_ID,\n",
        "    contents='Quando é a próxima Imersão IA com Google Gemini da Alura?',\n",
        "    config = {\n",
        "        \"tools\": [{\"google_search\": {}}]\n",
        "    }\n",
        ")\n",
        "\n",
        "# Exibe a resposta na tela\n",
        "display(Markdown(f\"Resposta:\\n {response.text}\"))"
      ],
      "metadata": {
        "id": "yXaZd7iZ4ftw",
        "colab": {
          "base_uri": "https://localhost:8080/",
          "height": 122
        },
        "outputId": "2d0fe614-6f21-4091-c3e8-27d72cb93ec5"
      },
      "execution_count": 8,
      "outputs": [
        {
          "output_type": "display_data",
          "data": {
            "text/plain": [
              "<IPython.core.display.Markdown object>"
            ],
            "text/markdown": "Resposta:\n A próxima Imersão IA com Google Gemini da Alura aconteceu entre os dias 12 e 16 de maio de 2025. As inscrições para esta edição estiveram abertas até o dia 11 de maio de 2025.\n\nA Imersão IA é um curso online e gratuito, realizado em parceria entre a Alura e o Google. O curso tem como objetivo capacitar profissionais de todas as áreas a utilizarem a inteligência artificial do Google Gemini no dia a dia. Durante o curso, os alunos aprendem a criar prompts eficazes, automatizar tarefas e desenvolver agentes autônomos. Ao final do curso, os alunos recebem um certificado da Alura e do Google.\n"
          },
          "metadata": {}
        }
      ]
    },
    {
      "cell_type": "code",
      "source": [
        "# Exibe a busca\n",
        "print(f\"Busca realizada: {response.candidates[0].grounding_metadata.web_search_queries}\")\n",
        "# Exibe as URLs nas quais ele se baseou\n",
        "print(f\"Páginas utilizadas na resposta: {', '.join([site.web.title for site in response.candidates[0].grounding_metadata.grounding_chunks])}\")\n",
        "print()\n",
        "display(HTML(response.candidates[0].grounding_metadata.search_entry_point.rendered_content))"
      ],
      "metadata": {
        "id": "xHSNlTd84heJ",
        "colab": {
          "base_uri": "https://localhost:8080/",
          "height": 117
        },
        "outputId": "cec45507-33c5-438d-ee4f-e491ede9122f"
      },
      "execution_count": 9,
      "outputs": [
        {
          "output_type": "stream",
          "name": "stdout",
          "text": [
            "Busca realizada: ['Próxima Imersão IA com Google Gemini Alura', 'Alura Imersão IA com Google Gemini datas']\n",
            "Páginas utilizadas na resposta: starten.tech, alura.com.br, tecmundo.com.br\n",
            "\n"
          ]
        },
        {
          "output_type": "display_data",
          "data": {
            "text/plain": [
              "<IPython.core.display.HTML object>"
            ],
            "text/html": [
              "<style>\n",
              ".container {\n",
              "  align-items: center;\n",
              "  border-radius: 8px;\n",
              "  display: flex;\n",
              "  font-family: Google Sans, Roboto, sans-serif;\n",
              "  font-size: 14px;\n",
              "  line-height: 20px;\n",
              "  padding: 8px 12px;\n",
              "}\n",
              ".chip {\n",
              "  display: inline-block;\n",
              "  border: solid 1px;\n",
              "  border-radius: 16px;\n",
              "  min-width: 14px;\n",
              "  padding: 5px 16px;\n",
              "  text-align: center;\n",
              "  user-select: none;\n",
              "  margin: 0 8px;\n",
              "  -webkit-tap-highlight-color: transparent;\n",
              "}\n",
              ".carousel {\n",
              "  overflow: auto;\n",
              "  scrollbar-width: none;\n",
              "  white-space: nowrap;\n",
              "  margin-right: -12px;\n",
              "}\n",
              ".headline {\n",
              "  display: flex;\n",
              "  margin-right: 4px;\n",
              "}\n",
              ".gradient-container {\n",
              "  position: relative;\n",
              "}\n",
              ".gradient {\n",
              "  position: absolute;\n",
              "  transform: translate(3px, -9px);\n",
              "  height: 36px;\n",
              "  width: 9px;\n",
              "}\n",
              "@media (prefers-color-scheme: light) {\n",
              "  .container {\n",
              "    background-color: #fafafa;\n",
              "    box-shadow: 0 0 0 1px #0000000f;\n",
              "  }\n",
              "  .headline-label {\n",
              "    color: #1f1f1f;\n",
              "  }\n",
              "  .chip {\n",
              "    background-color: #ffffff;\n",
              "    border-color: #d2d2d2;\n",
              "    color: #5e5e5e;\n",
              "    text-decoration: none;\n",
              "  }\n",
              "  .chip:hover {\n",
              "    background-color: #f2f2f2;\n",
              "  }\n",
              "  .chip:focus {\n",
              "    background-color: #f2f2f2;\n",
              "  }\n",
              "  .chip:active {\n",
              "    background-color: #d8d8d8;\n",
              "    border-color: #b6b6b6;\n",
              "  }\n",
              "  .logo-dark {\n",
              "    display: none;\n",
              "  }\n",
              "  .gradient {\n",
              "    background: linear-gradient(90deg, #fafafa 15%, #fafafa00 100%);\n",
              "  }\n",
              "}\n",
              "@media (prefers-color-scheme: dark) {\n",
              "  .container {\n",
              "    background-color: #1f1f1f;\n",
              "    box-shadow: 0 0 0 1px #ffffff26;\n",
              "  }\n",
              "  .headline-label {\n",
              "    color: #fff;\n",
              "  }\n",
              "  .chip {\n",
              "    background-color: #2c2c2c;\n",
              "    border-color: #3c4043;\n",
              "    color: #fff;\n",
              "    text-decoration: none;\n",
              "  }\n",
              "  .chip:hover {\n",
              "    background-color: #353536;\n",
              "  }\n",
              "  .chip:focus {\n",
              "    background-color: #353536;\n",
              "  }\n",
              "  .chip:active {\n",
              "    background-color: #464849;\n",
              "    border-color: #53575b;\n",
              "  }\n",
              "  .logo-light {\n",
              "    display: none;\n",
              "  }\n",
              "  .gradient {\n",
              "    background: linear-gradient(90deg, #1f1f1f 15%, #1f1f1f00 100%);\n",
              "  }\n",
              "}\n",
              "</style>\n",
              "<div class=\"container\">\n",
              "  <div class=\"headline\">\n",
              "    <svg class=\"logo-light\" width=\"18\" height=\"18\" viewBox=\"9 9 35 35\" fill=\"none\" xmlns=\"http://www.w3.org/2000/svg\">\n",
              "      <path fill-rule=\"evenodd\" clip-rule=\"evenodd\" d=\"M42.8622 27.0064C42.8622 25.7839 42.7525 24.6084 42.5487 23.4799H26.3109V30.1568H35.5897C35.1821 32.3041 33.9596 34.1222 32.1258 35.3448V39.6864H37.7213C40.9814 36.677 42.8622 32.2571 42.8622 27.0064V27.0064Z\" fill=\"#4285F4\"/>\n",
              "      <path fill-rule=\"evenodd\" clip-rule=\"evenodd\" d=\"M26.3109 43.8555C30.9659 43.8555 34.8687 42.3195 37.7213 39.6863L32.1258 35.3447C30.5898 36.3792 28.6306 37.0061 26.3109 37.0061C21.8282 37.0061 18.0195 33.9811 16.6559 29.906H10.9194V34.3573C13.7563 39.9841 19.5712 43.8555 26.3109 43.8555V43.8555Z\" fill=\"#34A853\"/>\n",
              "      <path fill-rule=\"evenodd\" clip-rule=\"evenodd\" d=\"M16.6559 29.8904C16.3111 28.8559 16.1074 27.7588 16.1074 26.6146C16.1074 25.4704 16.3111 24.3733 16.6559 23.3388V18.8875H10.9194C9.74388 21.2072 9.06992 23.8247 9.06992 26.6146C9.06992 29.4045 9.74388 32.022 10.9194 34.3417L15.3864 30.8621L16.6559 29.8904V29.8904Z\" fill=\"#FBBC05\"/>\n",
              "      <path fill-rule=\"evenodd\" clip-rule=\"evenodd\" d=\"M26.3109 16.2386C28.85 16.2386 31.107 17.1164 32.9095 18.8091L37.8466 13.8719C34.853 11.082 30.9659 9.3736 26.3109 9.3736C19.5712 9.3736 13.7563 13.245 10.9194 18.8875L16.6559 23.3388C18.0195 19.2636 21.8282 16.2386 26.3109 16.2386V16.2386Z\" fill=\"#EA4335\"/>\n",
              "    </svg>\n",
              "    <svg class=\"logo-dark\" width=\"18\" height=\"18\" viewBox=\"0 0 48 48\" xmlns=\"http://www.w3.org/2000/svg\">\n",
              "      <circle cx=\"24\" cy=\"23\" fill=\"#FFF\" r=\"22\"/>\n",
              "      <path d=\"M33.76 34.26c2.75-2.56 4.49-6.37 4.49-11.26 0-.89-.08-1.84-.29-3H24.01v5.99h8.03c-.4 2.02-1.5 3.56-3.07 4.56v.75l3.91 2.97h.88z\" fill=\"#4285F4\"/>\n",
              "      <path d=\"M15.58 25.77A8.845 8.845 0 0 0 24 31.86c1.92 0 3.62-.46 4.97-1.31l4.79 3.71C31.14 36.7 27.65 38 24 38c-5.93 0-11.01-3.4-13.45-8.36l.17-1.01 4.06-2.85h.8z\" fill=\"#34A853\"/>\n",
              "      <path d=\"M15.59 20.21a8.864 8.864 0 0 0 0 5.58l-5.03 3.86c-.98-2-1.53-4.25-1.53-6.64 0-2.39.55-4.64 1.53-6.64l1-.22 3.81 2.98.22 1.08z\" fill=\"#FBBC05\"/>\n",
              "      <path d=\"M24 14.14c2.11 0 4.02.75 5.52 1.98l4.36-4.36C31.22 9.43 27.81 8 24 8c-5.93 0-11.01 3.4-13.45 8.36l5.03 3.85A8.86 8.86 0 0 1 24 14.14z\" fill=\"#EA4335\"/>\n",
              "    </svg>\n",
              "    <div class=\"gradient-container\"><div class=\"gradient\"></div></div>\n",
              "  </div>\n",
              "  <div class=\"carousel\">\n",
              "    <a class=\"chip\" href=\"https://vertexaisearch.cloud.google.com/grounding-api-redirect/AbF9wXEB_YswZrmZxm__5X5kelSQuqp7dHhI8monf12TEqF72od88RAaAyOdbt1m_SB10iWQx7BSyf6Z8dTZ0loHTMzvp-IXsu1LckRIr8xY7Mj7CBQdemyxoI3KTZdwa_BwJHOdeFV1zvW2_CLEB2KZQkgTTjbTTpgM9NUCJRGlb0b5c6f0z-4Nt6fXIKkB5ARYJqtrjAfHvx70uF2nSFTYuc7pcCl1oI1_VPtJMKKXorNt2w==\">Alura Imersão IA com Google Gemini datas</a>\n",
              "    <a class=\"chip\" href=\"https://vertexaisearch.cloud.google.com/grounding-api-redirect/AbF9wXFBoMhL6QK4JIa7ViIe2WiC0aQatC6plQCbgvtKGqHByVh__0rUpB38PCej-Y_7DDNkTrK8V9jZq7ODz3dMNzK4fJC-OA3bQnt0AxCaolgAoy-OYhinrvBsfCsURgRZxMXxdYQ31ki-PxjhVhxc5_GXfz1Zx8gOVrpvQ4fgmELfpfcmrPBbFK_ZWd636qRUsArirGmCVE3BppTWV_Wr8hIF0o7dhfbY9970KoKeEuH6NSTT9g2BT2eP\">Próxima Imersão IA com Google Gemini Alura</a>\n",
              "  </div>\n",
              "</div>\n"
            ]
          },
          "metadata": {}
        }
      ]
    },
    {
      "cell_type": "code",
      "source": [
        "# Instalar Framework ADK de agentes do Google ################################################\n",
        "!pip install -q google-adk"
      ],
      "metadata": {
        "id": "hvZ3UnPI4jhJ",
        "colab": {
          "base_uri": "https://localhost:8080/"
        },
        "outputId": "8f9ffc54-6cd9-4800-8884-d755d57b2d47"
      },
      "execution_count": 10,
      "outputs": [
        {
          "output_type": "stream",
          "name": "stdout",
          "text": [
            "\u001b[?25l   \u001b[90m━━━━━━━━━━━━━━━━━━━━━━━━━━━━━━━━━━━━━━━━\u001b[0m \u001b[32m0.0/1.2 MB\u001b[0m \u001b[31m?\u001b[0m eta \u001b[36m-:--:--\u001b[0m\r\u001b[2K   \u001b[91m━━━━━━━━━━━━━━\u001b[0m\u001b[90m╺\u001b[0m\u001b[90m━━━━━━━━━━━━━━━━━━━━━━━━━\u001b[0m \u001b[32m0.4/1.2 MB\u001b[0m \u001b[31m12.4 MB/s\u001b[0m eta \u001b[36m0:00:01\u001b[0m\r\u001b[2K   \u001b[91m━━━━━━━━━━━━━━━━━━━━━━━━━━━━━━━━━━━━━━━\u001b[0m\u001b[91m╸\u001b[0m \u001b[32m1.2/1.2 MB\u001b[0m \u001b[31m22.5 MB/s\u001b[0m eta \u001b[36m0:00:01\u001b[0m\r\u001b[2K   \u001b[90m━━━━━━━━━━━━━━━━━━━━━━━━━━━━━━━━━━━━━━━━\u001b[0m \u001b[32m1.2/1.2 MB\u001b[0m \u001b[31m15.8 MB/s\u001b[0m eta \u001b[36m0:00:00\u001b[0m\n",
            "\u001b[?25h\u001b[?25l   \u001b[90m━━━━━━━━━━━━━━━━━━━━━━━━━━━━━━━━━━━━━━━━\u001b[0m \u001b[32m0.0/232.1 kB\u001b[0m \u001b[31m?\u001b[0m eta \u001b[36m-:--:--\u001b[0m\r\u001b[2K   \u001b[90m━━━━━━━━━━━━━━━━━━━━━━━━━━━━━━━━━━━━━━━━\u001b[0m \u001b[32m232.1/232.1 kB\u001b[0m \u001b[31m13.5 MB/s\u001b[0m eta \u001b[36m0:00:00\u001b[0m\n",
            "\u001b[2K   \u001b[90m━━━━━━━━━━━━━━━━━━━━━━━━━━━━━━━━━━━━━━━━\u001b[0m \u001b[32m95.2/95.2 kB\u001b[0m \u001b[31m5.9 MB/s\u001b[0m eta \u001b[36m0:00:00\u001b[0m\n",
            "\u001b[2K   \u001b[90m━━━━━━━━━━━━━━━━━━━━━━━━━━━━━━━━━━━━━━━━\u001b[0m \u001b[32m217.1/217.1 kB\u001b[0m \u001b[31m11.4 MB/s\u001b[0m eta \u001b[36m0:00:00\u001b[0m\n",
            "\u001b[2K   \u001b[90m━━━━━━━━━━━━━━━━━━━━━━━━━━━━━━━━━━━━━━━━\u001b[0m \u001b[32m334.1/334.1 kB\u001b[0m \u001b[31m18.8 MB/s\u001b[0m eta \u001b[36m0:00:00\u001b[0m\n",
            "\u001b[2K   \u001b[90m━━━━━━━━━━━━━━━━━━━━━━━━━━━━━━━━━━━━━━━━\u001b[0m \u001b[32m125.1/125.1 kB\u001b[0m \u001b[31m8.2 MB/s\u001b[0m eta \u001b[36m0:00:00\u001b[0m\n",
            "\u001b[2K   \u001b[90m━━━━━━━━━━━━━━━━━━━━━━━━━━━━━━━━━━━━━━━━\u001b[0m \u001b[32m65.8/65.8 kB\u001b[0m \u001b[31m3.9 MB/s\u001b[0m eta \u001b[36m0:00:00\u001b[0m\n",
            "\u001b[2K   \u001b[90m━━━━━━━━━━━━━━━━━━━━━━━━━━━━━━━━━━━━━━━━\u001b[0m \u001b[32m119.0/119.0 kB\u001b[0m \u001b[31m7.3 MB/s\u001b[0m eta \u001b[36m0:00:00\u001b[0m\n",
            "\u001b[2K   \u001b[90m━━━━━━━━━━━━━━━━━━━━━━━━━━━━━━━━━━━━━━━━\u001b[0m \u001b[32m194.9/194.9 kB\u001b[0m \u001b[31m11.3 MB/s\u001b[0m eta \u001b[36m0:00:00\u001b[0m\n",
            "\u001b[2K   \u001b[90m━━━━━━━━━━━━━━━━━━━━━━━━━━━━━━━━━━━━━━━━\u001b[0m \u001b[32m62.5/62.5 kB\u001b[0m \u001b[31m3.9 MB/s\u001b[0m eta \u001b[36m0:00:00\u001b[0m\n",
            "\u001b[2K   \u001b[90m━━━━━━━━━━━━━━━━━━━━━━━━━━━━━━━━━━━━━━━━\u001b[0m \u001b[32m103.3/103.3 kB\u001b[0m \u001b[31m6.5 MB/s\u001b[0m eta \u001b[36m0:00:00\u001b[0m\n",
            "\u001b[2K   \u001b[90m━━━━━━━━━━━━━━━━━━━━━━━━━━━━━━━━━━━━━━━━\u001b[0m \u001b[32m44.4/44.4 kB\u001b[0m \u001b[31m2.6 MB/s\u001b[0m eta \u001b[36m0:00:00\u001b[0m\n",
            "\u001b[2K   \u001b[90m━━━━━━━━━━━━━━━━━━━━━━━━━━━━━━━━━━━━━━━━\u001b[0m \u001b[32m72.0/72.0 kB\u001b[0m \u001b[31m4.4 MB/s\u001b[0m eta \u001b[36m0:00:00\u001b[0m\n",
            "\u001b[?25h"
          ]
        }
      ]
    },
    {
      "cell_type": "code",
      "execution_count": 11,
      "metadata": {
        "id": "aePV2bdfDeoW"
      },
      "outputs": [],
      "source": [
        "from google.adk.agents import Agent\n",
        "from google.adk.runners import Runner\n",
        "from google.adk.sessions import InMemorySessionService\n",
        "from google.adk.tools import google_search\n",
        "from google.genai import types  # Para criar conteúdos (Content e Part)\n",
        "from datetime import date\n",
        "import textwrap # Para formatar melhor a saída de texto\n",
        "from IPython.display import display, Markdown # Para exibir texto formatado no Colab\n",
        "import requests # Para fazer requisições HTTP\n",
        "import warnings\n",
        "\n",
        "warnings.filterwarnings(\"ignore\")"
      ]
    },
    {
      "cell_type": "code",
      "source": [
        "# Função auxiliar que envia uma mensagem para um agente via Runner e retorna a resposta final\n",
        "def call_agent(agent: Agent, message_text: str) -> str:\n",
        "    # Cria um serviço de sessão em memória\n",
        "    session_service = InMemorySessionService()\n",
        "    # Cria uma nova sessão (você pode personalizar os IDs conforme necessário)\n",
        "    session = session_service.create_session(app_name=agent.name, user_id=\"user1\", session_id=\"session1\")\n",
        "    # Cria um Runner para o agente\n",
        "    runner = Runner(agent=agent, app_name=agent.name, session_service=session_service)\n",
        "    # Cria o conteúdo da mensagem de entrada\n",
        "    content = types.Content(role=\"user\", parts=[types.Part(text=message_text)])\n",
        "\n",
        "    final_response = \"\"\n",
        "    # Itera assincronamente pelos eventos retornados durante a execução do agente\n",
        "    for event in runner.run(user_id=\"user1\", session_id=\"session1\", new_message=content):\n",
        "        if event.is_final_response():\n",
        "          for part in event.content.parts:\n",
        "            if part.text is not None:\n",
        "              final_response += part.text\n",
        "              final_response += \"\\n\"\n",
        "    return final_response"
      ],
      "metadata": {
        "id": "_xP4lWhsS5ko"
      },
      "execution_count": 12,
      "outputs": []
    },
    {
      "cell_type": "code",
      "source": [
        "# Função auxiliar para exibir texto formatado em Markdown no Colab\n",
        "def to_markdown(text):\n",
        "  text = text.replace('•', '  *')\n",
        "  return Markdown(textwrap.indent(text, '> ', predicate=lambda _: True))"
      ],
      "metadata": {
        "id": "8dosiodaxfFR"
      },
      "execution_count": 20,
      "outputs": []
    },
    {
      "cell_type": "code",
      "source": [
        "##########################################\n",
        "# --- Agente 1: Buscador de Notícias --- #\n",
        "##########################################\n",
        "def agente_buscador(topico, data_de_hoje):\n",
        "  buscador = Agent(\n",
        "      name=\"agente_buscador\",\n",
        "      model=\"gemini-2.0-flash\",\n",
        "      description=\"Agente que busca notícias sobre o tópico indicado\",\n",
        "      tools=[google_search],\n",
        "      instruction=\"\"\"\n",
        "      Você é um assistente de pesquisa. A sua tarefa é usar a ferramenta de busca do google (google_search)\n",
        "      para recuperar as ultimas noticias de lançamentos muito relevantes sobre o topico abaixo.\n",
        "      Foque em no maximo 5 lançamentos relevantes, com base na quantidade e entusiasmo das noticias sobre ele.\n",
        "      Se um tema tiver poucas noticias ou reações entusiasmadas, é possivel que ele seja tão relevante assim e pode\n",
        "      ser substituido por outro tema que tenha mais relevancia.\n",
        "      Esses lançamentos relevantes devem ser atuais, de no maximo um mês antes da data de hoje.\n",
        "      \"\"\"\n",
        "  )\n",
        "\n",
        "  entrada_do_agente_buscador = f\"Tópico: {topico}\\nData de hoje: {data_de_hoje}\"\n",
        "  # Executa o agente\n",
        "  lancamentos_buscados = call_agent(buscador, entrada_do_agente_buscador)\n",
        "  return lancamentos_buscados"
      ],
      "metadata": {
        "id": "o8bqIfi_DyH8"
      },
      "execution_count": 13,
      "outputs": []
    },
    {
      "cell_type": "code",
      "source": [
        "################################################\n",
        "# --- Agente 2: Planejador de posts --- #\n",
        "################################################\n",
        "def agente_planejador(topico, lancamentos_buscados):\n",
        "    planejador = Agent(\n",
        "        name=\"agente_planejador\",\n",
        "        model=\"gemini-2.0-flash\",\n",
        "        # Inserir as instruções do Agente Planejador #################################################\n",
        "        instruction=\"\"\"\n",
        "        Você é um planejador de conteudo, especialista em redes sociais. Com base na lista de lançamentos mais recentes e relevantes buscado,\n",
        "        você deve:\n",
        "        usar a ferramenta de busca do google (google_search) para criar um plano sobre quais são os pontos mais relevantes que podeiramos abordar em um post sobre\n",
        "        cada um dele. Você tambem pode usar o (google_search) para encontrar mais inormações sobre os temas e aprofundar.\n",
        "        Ao final, você irá escolher o tema mais relevante entre eles com base nas suas pesquisas\n",
        "         e retornar esse tema, seus pontos mais relevante, e um plano com os assuntos a serem abordados no post que será escrito posteriormente.\n",
        "        \"\"\",\n",
        "        description=\"Agente que planeja posts\",\n",
        "        tools=[google_search]\n",
        "    )\n",
        "\n",
        "    entrada_do_agente_planejador = f\"Tópico:{topico}\\nLançamentos buscados: {lancamentos_buscados}\"\n",
        "    # Executa o agente\n",
        "    plano_do_post = call_agent(planejador, entrada_do_agente_planejador)\n",
        "    return plano_do_post"
      ],
      "metadata": {
        "id": "y3VO1uo5_ghO"
      },
      "execution_count": 14,
      "outputs": []
    },
    {
      "cell_type": "code",
      "source": [
        "######################################\n",
        "# --- Agente 3: Redator do Post --- #\n",
        "######################################\n",
        "def agente_redator(topico, plano_de_post):\n",
        "    redator = Agent(\n",
        "        name=\"agente_redator\",\n",
        "        model=\"gemini-2.0-flash\",\n",
        "        instruction=\"\"\"\n",
        "            Você é um Redator Criativo especializado em criar posts virais para redes sociais.\n",
        "            Você escreve posts para a empresa Alura, a maior escola online de tecnologia do Brasil.\n",
        "            Utilize o tema fornecido no plano de post e os pontos mais relevantes fornecidos e, com base nisso,\n",
        "            escreva um rascunho de post para Instagram sobre o tema indicado.\n",
        "            O post deve ser engajador, informativo, com linguagem simples e incluir 2 a 4 hashtags no final.\n",
        "            \"\"\",\n",
        "        description=\"Agente redator de posts engajadores para Instagram\"\n",
        "    )\n",
        "    entrada_do_agente_redator = f\"Tópico: {topico}\\nPlano de post: {plano_de_post}\"\n",
        "    # Executa o agente\n",
        "    rascunho = call_agent(redator, entrada_do_agente_redator)\n",
        "    return rascunho"
      ],
      "metadata": {
        "id": "uOqlg2TRLVh1"
      },
      "execution_count": 27,
      "outputs": []
    },
    {
      "cell_type": "code",
      "source": [
        "##########################################\n",
        "# --- Agente 4: Revisor de Qualidade --- #\n",
        "##########################################\n",
        "def agente_revisor(topico, rascunho_gerado):\n",
        "    revisor = Agent(\n",
        "        name=\"agente_revisor\",\n",
        "        model=\"gemini-2.0-flash\",\n",
        "        instruction=\"\"\"\n",
        "            Você é um Editor e Revisor de Conteúdo meticuloso, especializado em posts para redes sociais, com foco no Instagram.\n",
        "            Por ter um público jovem, entre 18 e 30 anos, use um tom de escrita adequado.\n",
        "            Revise o rascunho de post de Instagram abaixo sobre o tópico indicado, verificando clareza, concisão, correção e tom.\n",
        "            Se o rascunho estiver bom, responda apenas 'O rascunho está ótimo e pronto para publicar!'.\n",
        "            Caso haja problemas, aponte-os e sugira melhorias.\n",
        "            \"\"\",\n",
        "        description=\"Agente revisor de post para redes sociais.\"\n",
        "    )\n",
        "    entrada_do_agente_revisor = f\"Tópico: {topico}\\nRascunho: {rascunho_gerado}\"\n",
        "    # Executa o agente\n",
        "    texto_revisado = call_agent(revisor, entrada_do_agente_revisor)\n",
        "    return texto_revisado"
      ],
      "metadata": {
        "id": "_aTb1SdkLeT6"
      },
      "execution_count": 26,
      "outputs": []
    },
    {
      "cell_type": "code",
      "source": [
        "data_de_hoje = date.today().strftime(\"%d/%m/%Y\")\n",
        "\n",
        "print(\"🚀 Iniciando o Sistema de Criação de Posts para Instagram com 4 Agentes 🚀\")\n",
        "\n",
        "# --- Obter o Tópico do Usuário ---\n",
        "topico = input(\"❓ Por favor, digite o TÓPICO sobre o qual você quer criar o post de tendências: \")\n",
        "\n",
        "# Inserir lógica do sistema de agentes ################################################\n",
        "\n",
        "if not topico:\n",
        "  print(\"Você não informou nenhum topico!\")\n",
        "else:\n",
        "  print(f\"Maravilha, vamos criar um post sobre {topico}!\")\n",
        "\n",
        "  lancamentos_buscados = agente_buscador(topico, data_de_hoje)\n",
        "  print(\"🚀 Lançamentos buscados com sucesso! 🚀\")\n",
        "  display(to_markdown(lancamentos_buscados))\n",
        "  print(\"----------------------------------\")\n",
        "\n",
        "  plano_do_post = agente_planejador(topico, lancamentos_buscados)\n",
        "  print(\"🚀 Plano de post criado com sucesso! 🚀\")\n",
        "  display(to_markdown(plano_do_post))\n",
        "  print(\"----------------------------------\")\n",
        "\n",
        "  rascunho = agente_redator(topico, plano_do_post)\n",
        "  print(\"🚀 Rascunho gerado com sucesso! 🚀\")\n",
        "  display(to_markdown(rascunho))\n",
        "  print(\"----------------------------------\")\n",
        "\n",
        "  texto_revisado = agente_revisor(topico, rascunho)\n",
        "  print(\"🚀 Texto revisado com sucesso! 🚀\")\n",
        "  display(to_markdown(texto_revisado))\n",
        "  print(\"----------------------------------\")"
      ],
      "metadata": {
        "id": "630ummxz4myx",
        "colab": {
          "base_uri": "https://localhost:8080/",
          "height": 1000
        },
        "outputId": "99a3c5bf-4938-4ab2-e2db-08bd9143d001"
      },
      "execution_count": 28,
      "outputs": [
        {
          "output_type": "stream",
          "name": "stdout",
          "text": [
            "🚀 Iniciando o Sistema de Criação de Posts para Instagram com 4 Agentes 🚀\n",
            "❓ Por favor, digite o TÓPICO sobre o qual você quer criar o post de tendências: IA no novo modelo de trabalho\n",
            "Maravilha, vamos criar um post sobre IA no novo modelo de trabalho!\n",
            "🚀 Lançamentos buscados com sucesso! 🚀\n"
          ]
        },
        {
          "output_type": "display_data",
          "data": {
            "text/plain": [
              "<IPython.core.display.Markdown object>"
            ],
            "text/markdown": "> Olá! Para fornecer as últimas notícias sobre os lançamentos mais relevantes de IA no novo modelo de trabalho, vou realizar algumas pesquisas no Google.\n> \n> \n> Com base nas notícias mais recentes, aqui estão 5 lançamentos e tendências relevantes sobre IA no novo modelo de trabalho:\n> \n> 1.  **Avanço da IA Generativa:** A IA generativa continua a se expandir, transformando áreas como marketing, design e desenvolvimento de produtos. Em 2025, espera-se que essas ferramentas sejam amplamente utilizadas para criar textos, imagens e até códigos de maneira autônoma, impulsionando a inovação nos negócios.\n> 2.  **Automação Inteligente de Processos:** A automação inteligente, impulsionada pela IA, está revolucionando diversos processos ao simplificar, automatizar e otimizar operações de maneira estratégica. A combinação de aprendizado de máquina, análise avançada e algoritmos permite que as empresas eliminem tarefas manuais repetitivas, reduzam custos operacionais e elevem a eficiência.\n> 3.  **Expansão da IA em Saúde e Biotecnologia:** A IA na saúde é uma área de destaque, com avanços em diagnóstico assistido por IA, análise de imagens médicas e desenvolvimento de medicamentos. Em 2025, espera-se uma explosão de inovações no setor, com a IA desempenhando um papel crucial na melhoria dos cuidados com a saúde.\n> 4.  **Agentes de IA:** A era dos Agentes de IA está chegando, com esses agentes se tornando \"membros\" das equipes e realizando tarefas operacionais. Esses agentes tomam decisões e realizam ações por conta própria, liberando os humanos para atividades estratégicas e abrindo novas oportunidades de escala.\n> 5.  **Ferramentas de IA para Trabalho Remoto:** Com o aumento do trabalho remoto, ferramentas de IA tornaram-se essenciais para manter a produtividade e eficiência. Ferramentas como Focus@Will e Brain.fm utilizam IA para criar ambientes sonoros que promovem a concentração, enquanto plataformas como Zoom e Microsoft Teams incorporam funções de IA para melhorar a qualidade das videoconferências.\n> \n> Além desses lançamentos, algumas tendências importantes a serem observadas incluem:\n> \n> *   **Democratização da IA:** Ferramentas no-code e low-code estão tornando a IA mais acessível para empresas de todos os tamanhos.\n> *   **IA Ética e Transparente:** Empresas estão adotando práticas mais transparentes para garantir que os sistemas de IA sejam justos, imparciais e respeitem a privacidade.\n> *   **Hiperpersonalização:** A IA está revolucionando as interações no mercado B2B, permitindo a criação de experiências personalizadas para fornecedores e clientes.\n> *   **Requalificação Profissional:** A transformação do mercado de trabalho exigirá um esforço global de requalificação, com profissionais precisando se adaptar às novas demandas da IA.\n> *   **Aumento do uso de IA e automação:** Estima-se que até 2025, mais de 80% das empresas utilizarão IA e automação.\n> \n"
          },
          "metadata": {}
        },
        {
          "output_type": "stream",
          "name": "stdout",
          "text": [
            "----------------------------------\n",
            "🚀 Plano de post criado com sucesso! 🚀\n"
          ]
        },
        {
          "output_type": "display_data",
          "data": {
            "text/plain": [
              "<IPython.core.display.Markdown object>"
            ],
            "text/markdown": "> Com base nos lançamentos e tendências de IA no novo modelo de trabalho, vou criar um plano para um post de mídia social, focando no tema mais relevante e explorando seus pontos principais.\n> \n> \n> Após analisar os lançamentos e tendências mais recentes, o tema \"Agentes de IA\" parece ser o mais promissor para um post de mídia social, pois possui grande potencial de engajamento e relevância no contexto atual do mercado de trabalho.\n> \n> **Tema:** A Ascensão dos Agentes de IA no Novo Modelo de Trabalho\n> \n> **Pontos Relevantes:**\n> \n> *   **O que são Agentes de IA:** Explicar de forma clara e concisa o que são agentes de IA, diferenciando-os de outras formas de IA.\n> *   **Como Agentes de IA estão transformando o mercado de trabalho:** Detalhar como esses agentes estão automatizando tarefas, aumentando a eficiência e permitindo que os profissionais se concentrem em atividades mais estratégicas.\n> *   **Exemplos de Agentes de IA em ação:** Apresentar exemplos práticos de como os agentes de IA estão sendo utilizados em diferentes setores, como marketing, atendimento ao cliente e logística.\n> *   **O futuro dos Agentes de IA:** Discutir as perspectivas futuras para essa tecnologia, incluindo o potencial para se tornarem membros integrais das equipes de trabalho e a necessidade de requalificação profissional.\n> *   **Ética e segurança:** Abordar as preocupações éticas e de segurança relacionadas ao uso de agentes de IA, como privacidade de dados e viés algorítmico.\n> \n> **Plano para o Post:**\n> \n> 1.  **Título:** \"Agentes de IA: O Futuro do Trabalho Chegou?\" (ou similar, que chame a atenção e desperte a curiosidade)\n> 2.  **Introdução:**\n>     *   Contextualizar o cenário atual do mercado de trabalho, mencionando o aumento da automação e a necessidade de adaptação.\n>     *   Apresentar os Agentes de IA como uma das principais tendências nesse novo modelo de trabalho.\n> 3.  **Desenvolvimento:**\n>     *   Explicar o que são Agentes de IA e como eles funcionam.\n>     *   Apresentar exemplos de como os Agentes de IA estão sendo utilizados em diferentes setores e quais os benefícios que estão trazendo.\n>     *   Discutir o impacto dos Agentes de IA no mercado de trabalho, tanto em termos de oportunidades quanto de desafios.\n>     *   Abordar as questões éticas e de segurança relacionadas ao uso de Agentes de IA.\n> 4.  **Conclusão:**\n>     *   Reforçar a importância de acompanhar a evolução dos Agentes de IA e se preparar para as mudanças que eles trarão.\n>     *   Incentivar o debate e a troca de ideias sobre o tema.\n> 5.  **Call to Action:**\n>     *   Convidar os seguidores a compartilhar suas opiniões sobre os Agentes de IA.\n>     *   Sugerir que eles pesquisem mais sobre o tema e explorem as ferramentas disponíveis.\n> \n> **Hashtags:** #InteligenciaArtificial #IA #AgentesDeIA #FuturoDoTrabalho #Automacao #Tecnologia #Inovacao #MercadoDeTrabalho\n> \n> Esse plano visa fornecer um conteúdo informativo, relevante e engajador para o público, explorando os principais aspectos dos Agentes de IA e seu impacto no novo modelo de trabalho.\n> \n"
          },
          "metadata": {}
        },
        {
          "output_type": "stream",
          "name": "stdout",
          "text": [
            "----------------------------------\n",
            "🚀 Rascunho gerado com sucesso! 🚀\n"
          ]
        },
        {
          "output_type": "display_data",
          "data": {
            "text/plain": [
              "<IPython.core.display.Markdown object>"
            ],
            "text/markdown": "> 🚀 Agentes de IA: O Futuro do Trabalho Chegou?! 🤖\n> \n> Você já ouviu falar em Agentes de Inteligência Artificial? 🤔 Eles são a nova onda da tecnologia e estão transformando o mercado de trabalho! 🤯\n> \n> ➡️ Mas o que são Agentes de IA?\n> Diferente de outras formas de IA, eles são sistemas autônomos capazes de aprender, tomar decisões e agir em nosso nome. Imagine um assistente virtual turbinado, que não só responde perguntas, mas também executa tarefas complexas! 🤩\n> \n> 💼 Como estão mudando o jogo?\n> Eles automatizam tarefas repetitivas, aumentam a eficiência e liberam os profissionais para focar em atividades estratégicas. É como ter um superpoder no trabalho! 💪\n> \n> Exemplos práticos? Temos! 🚀\n> ✅ Marketing: Criando campanhas personalizadas.\n> ✅ Atendimento ao cliente: Resolvendo problemas 24/7.\n> ✅ Logística: Otimizando rotas e entregas.\n> \n> Mas calma! ✋ É importante discutir a ética e a segurança no uso dessas ferramentas. Privacidade de dados e vieses algorítmicos são temas cruciais!\n> \n> E aí, preparado(a) para o futuro? 🚀 Compartilhe sua opinião sobre os Agentes de IA nos comentários! 👇\n> \n> #InteligenciaArtificial #IA #AgentesDeIA #FuturoDoTrabalho\n> \n"
          },
          "metadata": {}
        },
        {
          "output_type": "stream",
          "name": "stdout",
          "text": [
            "----------------------------------\n",
            "🚀 Texto revisado com sucesso! 🚀\n"
          ]
        },
        {
          "output_type": "display_data",
          "data": {
            "text/plain": [
              "<IPython.core.display.Markdown object>"
            ],
            "text/markdown": "> O rascunho está bom, mas podemos deixá-lo ainda mais interessante e engajador para o público do Instagram, com foco em jovens de 18 a 30 anos. Aqui estão algumas sugestões:\n> \n> *   **Emojis:** Moderar a quantidade de emojis. O excesso pode parecer apelativo demais.\n> *   **Linguagem:** Ajustar um pouco a linguagem para um tom mais conversacional e menos formal. Exemplo: trocar \"Diferente de outras formas de IA\" por \"Sabe as outras IAs? Então...\"\n> *   **Chamada para Ação (CTA):** Tornar a chamada para ação mais direta e convidativa. Exemplo: em vez de \"Compartilhe sua opinião sobre os Agentes de IA nos comentários!\", usar algo como \"Curtiu a ideia? Deixa um comentário aqui embaixo!\".\n> \n> **Sugestão de Rascunho Revisado:**\n> \n> 🚀 Agentes de IA: A Revolução no Trabalho Começou?! 🤖\n> \n> Já ouviu falar dos Agentes de Inteligência Artificial? 🤔 Eles são a última novidade da tecnologia e tão mudando o mercado de trabalho! 🤯\n> \n> ➡️ Mas, ei, o que são Agentes de IA?\n> Sabe as outras IAs? Então, esses agentes são tipo robôs super inteligentes que aprendem, decidem e fazem coisas por você. É como ter um assistente virtual que não só responde suas dúvidas, mas também resolve problemas! 🤩\n> \n> 💼 Como eles tão mudando o jogo?\n> Eles fazem as tarefas chatas no automático, deixam tudo mais rápido e te dão mais tempo pra focar no que importa. É tipo um superpoder no trabalho! 💪\n> \n> Exemplos? Se liga! 🚀\n> ✅ Marketing: Criando posts que bombam.\n> ✅ Atendimento ao cliente: Resolvendo tretas 24/7.\n> ✅ Logística: Deixando as entregas rápidas.\n> \n> Mas espera! ✋ A gente tem que falar sobre como usar essas ferramentas de forma ética e segura. Cuidado com os dados e com quem programa esses robôs!\n> \n> E aí, preparado(a) pro futuro? 🚀 Deixa um comentário aqui embaixo! 👇\n> \n> #InteligenciaArtificial #IA #AgentesDeIA #FuturoDoTrabalho\n> \n"
          },
          "metadata": {}
        },
        {
          "output_type": "stream",
          "name": "stdout",
          "text": [
            "----------------------------------\n"
          ]
        }
      ]
    }
  ]
}